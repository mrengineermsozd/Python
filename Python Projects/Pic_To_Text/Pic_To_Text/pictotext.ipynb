{
 "cells": [
  {
   "cell_type": "code",
   "execution_count": 1,
   "id": "c512600e",
   "metadata": {},
   "outputs": [
    {
     "name": "stdout",
     "output_type": "stream",
     "text": [
      "Requirement already satisfied: pytesseract in c:\\users\\asus\\anaconda3\\lib\\site-packages (0.3.10)\n",
      "Requirement already satisfied: Pillow in c:\\users\\asus\\anaconda3\\lib\\site-packages (9.2.0)\n",
      "Requirement already satisfied: packaging>=21.3 in c:\\users\\asus\\anaconda3\\lib\\site-packages (from pytesseract) (21.3)\n",
      "Requirement already satisfied: pyparsing!=3.0.5,>=2.0.2 in c:\\users\\asus\\anaconda3\\lib\\site-packages (from packaging>=21.3->pytesseract) (3.0.9)\n",
      "Note: you may need to restart the kernel to use updated packages.\n"
     ]
    }
   ],
   "source": [
    "pip install pytesseract Pillow"
   ]
  },
  {
   "cell_type": "code",
   "execution_count": 2,
   "id": "fb9e6a6b",
   "metadata": {},
   "outputs": [
    {
     "name": "stdout",
     "output_type": "stream",
     "text": [
      "Requirement already satisfied: pytesseract in c:\\users\\asus\\anaconda3\\lib\\site-packages (0.3.10)\n",
      "Requirement already satisfied: Pillow in c:\\users\\asus\\anaconda3\\lib\\site-packages (9.2.0)\n",
      "Requirement already satisfied: python-docx in c:\\users\\asus\\anaconda3\\lib\\site-packages (1.1.2)\n",
      "Requirement already satisfied: packaging>=21.3 in c:\\users\\asus\\anaconda3\\lib\\site-packages (from pytesseract) (21.3)\n",
      "Requirement already satisfied: lxml>=3.1.0 in c:\\users\\asus\\anaconda3\\lib\\site-packages (from python-docx) (4.9.1)\n",
      "Requirement already satisfied: typing-extensions>=4.9.0 in c:\\users\\asus\\anaconda3\\lib\\site-packages (from python-docx) (4.12.2)\n",
      "Requirement already satisfied: pyparsing!=3.0.5,>=2.0.2 in c:\\users\\asus\\anaconda3\\lib\\site-packages (from packaging>=21.3->pytesseract) (3.0.9)\n",
      "Note: you may need to restart the kernel to use updated packages.\n"
     ]
    }
   ],
   "source": [
    "pip install pytesseract Pillow python-docx"
   ]
  },
  {
   "cell_type": "code",
   "execution_count": 1,
   "id": "aea4cc5a",
   "metadata": {},
   "outputs": [],
   "source": [
    "from PIL import Image\n",
    "import pytesseract\n",
    "from docx import Document"
   ]
  },
  {
   "cell_type": "code",
   "execution_count": 11,
   "id": "902a17d9",
   "metadata": {},
   "outputs": [],
   "source": [
    "# Tesseract executable yolunu belirtin\n",
    "# Windows için genellikle C:\\Program Files\\Tesseract-OCR\\tesseract.exe şeklindedir.\n",
    "pytesseract.pytesseract.tesseract_cmd = r'C:\\Users\\ASUS\\AppData\\Local\\Programs\\Tesseract-OCR\\tesseract.exe'"
   ]
  },
  {
   "cell_type": "code",
   "execution_count": 12,
   "id": "6d84f366",
   "metadata": {},
   "outputs": [],
   "source": [
    "# Resmi yükle\n",
    "image_path = r'C:\\Users\\ASUS\\Desktop\\Pic_To_Text\\1.jpg'  # Buraya resminizin yolunu yazın\n",
    "image = Image.open(image_path)"
   ]
  },
  {
   "cell_type": "code",
   "execution_count": 13,
   "id": "0ab617f8",
   "metadata": {},
   "outputs": [],
   "source": [
    "extracted_text = pytesseract.image_to_string(image, lang='tur')"
   ]
  },
  {
   "cell_type": "code",
   "execution_count": 14,
   "id": "810b1329",
   "metadata": {},
   "outputs": [],
   "source": [
    "doc_path = r'C:\\Users\\ASUS\\Desktop\\Pic_To_Text\\1.docx'  # Buraya Word dosyanızın yolunu yazın\n",
    "try:\n",
    "    document = Document(doc_path)\n",
    "except:\n",
    "    document = Document()"
   ]
  },
  {
   "cell_type": "code",
   "execution_count": 15,
   "id": "24d7318b",
   "metadata": {},
   "outputs": [
    {
     "data": {
      "text/plain": [
       "<docx.text.paragraph.Paragraph at 0x2a3727b6ac0>"
      ]
     },
     "execution_count": 15,
     "metadata": {},
     "output_type": "execute_result"
    }
   ],
   "source": [
    "document.add_paragraph(extracted_text)"
   ]
  },
  {
   "cell_type": "code",
   "execution_count": 16,
   "id": "fbf82351",
   "metadata": {},
   "outputs": [
    {
     "name": "stdout",
     "output_type": "stream",
     "text": [
      "Tespit edilen metin Word dosyasına kaydedildi.\n"
     ]
    }
   ],
   "source": [
    "document.save(doc_path)\n",
    "\n",
    "print(\"Tespit edilen metin Word dosyasına kaydedildi.\")"
   ]
  },
  {
   "cell_type": "code",
   "execution_count": null,
   "id": "9a97db6c",
   "metadata": {},
   "outputs": [],
   "source": []
  },
  {
   "cell_type": "code",
   "execution_count": null,
   "id": "b50b21d8",
   "metadata": {},
   "outputs": [],
   "source": []
  }
 ],
 "metadata": {
  "kernelspec": {
   "display_name": "Python 3 (ipykernel)",
   "language": "python",
   "name": "python3"
  },
  "language_info": {
   "codemirror_mode": {
    "name": "ipython",
    "version": 3
   },
   "file_extension": ".py",
   "mimetype": "text/x-python",
   "name": "python",
   "nbconvert_exporter": "python",
   "pygments_lexer": "ipython3",
   "version": "3.9.13"
  }
 },
 "nbformat": 4,
 "nbformat_minor": 5
}
